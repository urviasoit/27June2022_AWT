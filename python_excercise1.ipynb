{
 "cells": [
  {
   "cell_type": "code",
   "execution_count": 2,
   "id": "1c1b9c18",
   "metadata": {},
   "outputs": [],
   "source": [
    "fruits_list=[]"
   ]
  },
  {
   "cell_type": "code",
   "execution_count": 3,
   "id": "32731f5d",
   "metadata": {},
   "outputs": [],
   "source": [
    "fruits_list=[\"apple\", \"banana\", \"orange\", \"grape\",\"mango\"]"
   ]
  },
  {
   "cell_type": "code",
   "execution_count": 4,
   "id": "2332a1c3",
   "metadata": {},
   "outputs": [
    {
     "name": "stdout",
     "output_type": "stream",
     "text": [
      "fruits: apple mango\n"
     ]
    }
   ],
   "source": [
    "print(\"fruits:\",fruits_list[0],fruits_list[-1])"
   ]
  },
  {
   "cell_type": "code",
   "execution_count": 5,
   "id": "bca40f4d",
   "metadata": {},
   "outputs": [
    {
     "name": "stdout",
     "output_type": "stream",
     "text": [
      "fruits: ['banana', 'orange']\n"
     ]
    }
   ],
   "source": [
    "print(\"fruits:\",fruits_list[1:3])"
   ]
  },
  {
   "cell_type": "code",
   "execution_count": 6,
   "id": "12381040",
   "metadata": {},
   "outputs": [
    {
     "name": "stdout",
     "output_type": "stream",
     "text": [
      "length of list: 5\n"
     ]
    }
   ],
   "source": [
    "print(\"length of list:\",len(fruits_list))"
   ]
  },
  {
   "cell_type": "code",
   "execution_count": 7,
   "id": "2e213237",
   "metadata": {},
   "outputs": [
    {
     "name": "stdout",
     "output_type": "stream",
     "text": [
      "['apple', 'banana', 'pear', 'grape', 'mango']\n"
     ]
    }
   ],
   "source": [
    "fruits_list[2]=\"pear\"\n",
    "print(fruits_list)"
   ]
  },
  {
   "cell_type": "code",
   "execution_count": 8,
   "id": "4a13ce5f",
   "metadata": {},
   "outputs": [
    {
     "name": "stdout",
     "output_type": "stream",
     "text": [
      "Yes it is present: ['apple', 'banana', 'pear', 'grape', 'mango']\n"
     ]
    }
   ],
   "source": [
    "for i in fruits_list:\n",
    "    if i==\"apple\":\n",
    "        set=i\n",
    "        break\n",
    "    elif  a not in fruits_list:\n",
    "        pass\n",
    "if set==i:\n",
    "    print(\"Yes it is present:\",fruits_list)\n",
    "else:\n",
    "    print(\"No it is not present!\")\n",
    "    \n"
   ]
  },
  {
   "cell_type": "code",
   "execution_count": 9,
   "id": "c4128c30",
   "metadata": {},
   "outputs": [
    {
     "name": "stdout",
     "output_type": "stream",
     "text": [
      "Banana is Removed : ['apple', 'orange', 'grape', 'mango']\n",
      "Last element is removed: ['apple', 'orange', 'grape']\n"
     ]
    }
   ],
   "source": [
    "fruits_list=[\"apple\", \"banana\", \"orange\", \"grape\",\"mango\"]\n",
    "fruits_list.remove('banana')\n",
    "print(\"Banana is Removed :\",fruits_list)\n",
    "fruits_list.pop(-1)\n",
    "print(\"Last element is removed:\",fruits_list)"
   ]
  },
  {
   "cell_type": "code",
   "execution_count": 13,
   "id": "1a6ad3f2",
   "metadata": {},
   "outputs": [
    {
     "name": "stdout",
     "output_type": "stream",
     "text": [
      "['Watermelon', 'apple', 'grape', 'kiwi', 'orange', 'kiwi', 'Watermelon']\n"
     ]
    }
   ],
   "source": [
    "additional_fruits=[\"kiwi\",\"Watermelon\"]\n",
    "fruits_list = fruits_list+additional_fruits\n",
    "print(fruits_list)"
   ]
  },
  {
   "cell_type": "code",
   "execution_count": 14,
   "id": "803433b5",
   "metadata": {},
   "outputs": [
    {
     "name": "stdout",
     "output_type": "stream",
     "text": [
      "['Watermelon', 'Watermelon', 'apple', 'grape', 'kiwi', 'kiwi', 'orange']\n"
     ]
    }
   ],
   "source": [
    "fruits_list.sort()\n",
    "print(fruits_list)"
   ]
  },
  {
   "cell_type": "code",
   "execution_count": 15,
   "id": "8e8deed1",
   "metadata": {},
   "outputs": [
    {
     "data": {
      "text/plain": [
       "2"
      ]
     },
     "execution_count": 15,
     "metadata": {},
     "output_type": "execute_result"
    }
   ],
   "source": [
    "fruits_list.count(\"kiwi\")\n"
   ]
  },
  {
   "cell_type": "code",
   "execution_count": null,
   "id": "4282d899",
   "metadata": {},
   "outputs": [],
   "source": []
  },
  {
   "cell_type": "code",
   "execution_count": null,
   "id": "cedf2be9",
   "metadata": {},
   "outputs": [],
   "source": []
  }
 ],
 "metadata": {
  "kernelspec": {
   "display_name": "Python 3 (ipykernel)",
   "language": "python",
   "name": "python3"
  },
  "language_info": {
   "codemirror_mode": {
    "name": "ipython",
    "version": 3
   },
   "file_extension": ".py",
   "mimetype": "text/x-python",
   "name": "python",
   "nbconvert_exporter": "python",
   "pygments_lexer": "ipython3",
   "version": "3.9.12"
  }
 },
 "nbformat": 4,
 "nbformat_minor": 5
}
